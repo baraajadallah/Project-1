{
  "cells": [
    {
      "cell_type": "markdown",
      "metadata": {
        "id": "view-in-github",
        "colab_type": "text"
      },
      "source": [
        "<a href=\"https://colab.research.google.com/github/baraajadallah/Project-1/blob/main/Copy_of_dicom_files_assortion.ipynb\" target=\"_parent\"><img src=\"https://colab.research.google.com/assets/colab-badge.svg\" alt=\"Open In Colab\"/></a>"
      ]
    },
    {
      "cell_type": "code",
      "source": [
        "# Mout the Drive\n",
        "from google.colab import drive\n",
        "drive.mount('/content/gdrive')"
      ],
      "metadata": {
        "colab": {
          "base_uri": "https://localhost:8080/"
        },
        "id": "psZLZNzRTC50",
        "outputId": "21f13b11-561a-4900-f99e-7c7237e36b8f"
      },
      "execution_count": null,
      "outputs": [
        {
          "output_type": "stream",
          "name": "stdout",
          "text": [
            "Mounted at /content/gdrive\n"
          ]
        }
      ]
    },
    {
      "cell_type": "code",
      "source": [
        "!pip install pydicom gdcm pylibjpeg pylibjpeg-libjpeg"
      ],
      "metadata": {
        "colab": {
          "base_uri": "https://localhost:8080/"
        },
        "id": "eW77uh71ZoTo",
        "outputId": "9915d3db-d348-4c64-d8a4-bc8f19f7fe31"
      },
      "execution_count": null,
      "outputs": [
        {
          "output_type": "stream",
          "name": "stdout",
          "text": [
            "Collecting pydicom\n",
            "  Downloading pydicom-2.4.4-py3-none-any.whl (1.8 MB)\n",
            "\u001b[2K     \u001b[90m━━━━━━━━━━━━━━━━━━━━━━━━━━━━━━━━━━━━━━━━\u001b[0m \u001b[32m1.8/1.8 MB\u001b[0m \u001b[31m9.0 MB/s\u001b[0m eta \u001b[36m0:00:00\u001b[0m\n",
            "\u001b[?25hCollecting gdcm\n",
            "  Downloading gdcm-1.1-py3-none-manylinux1_x86_64.whl (2.7 MB)\n",
            "\u001b[2K     \u001b[90m━━━━━━━━━━━━━━━━━━━━━━━━━━━━━━━━━━━━━━━━\u001b[0m \u001b[32m2.7/2.7 MB\u001b[0m \u001b[31m44.1 MB/s\u001b[0m eta \u001b[36m0:00:00\u001b[0m\n",
            "\u001b[?25hCollecting pylibjpeg\n",
            "  Downloading pylibjpeg-2.0.0-py3-none-any.whl (24 kB)\n",
            "Collecting pylibjpeg-libjpeg\n",
            "  Downloading pylibjpeg_libjpeg-2.0.2-cp310-cp310-manylinux_2_17_x86_64.manylinux2014_x86_64.whl (3.4 MB)\n",
            "\u001b[2K     \u001b[90m━━━━━━━━━━━━━━━━━━━━━━━━━━━━━━━━━━━━━━━━\u001b[0m \u001b[32m3.4/3.4 MB\u001b[0m \u001b[31m56.3 MB/s\u001b[0m eta \u001b[36m0:00:00\u001b[0m\n",
            "\u001b[?25hRequirement already satisfied: numpy in /usr/local/lib/python3.10/dist-packages (from pylibjpeg) (1.25.2)\n",
            "Installing collected packages: gdcm, pylibjpeg-libjpeg, pylibjpeg, pydicom\n",
            "Successfully installed gdcm-1.1 pydicom-2.4.4 pylibjpeg-2.0.0 pylibjpeg-libjpeg-2.0.2\n"
          ]
        }
      ]
    },
    {
      "cell_type": "code",
      "source": [
        "import os\n",
        "import pydicom\n",
        "import shutil\n",
        "\n",
        "def categorize_and_rename_dicom_axial_no(dicom_path, output_folder):\n",
        "    # Create output folder\n",
        "    os.makedirs(output_folder, exist_ok=True)\n",
        "\n",
        "    # Dictionary to store the number of slices per series\n",
        "    series_slices_count = {}\n",
        "\n",
        "    # Iterate through DICOM files in the folder\n",
        "    for dicom_file in os.listdir(dicom_path):\n",
        "        dicom_filepath = os.path.join(dicom_path, dicom_file)\n",
        "\n",
        "        # Check if it's a DICOM file\n",
        "        if not dicom_filepath.lower().endswith('.dcm'):\n",
        "            continue\n",
        "\n",
        "        # Read DICOM metadata\n",
        "        dicom_data = pydicom.dcmread(dicom_filepath, force=True)\n",
        "\n",
        "        # Check if 'ImageOrientationPatient' metadata is present\n",
        "        if 'ImageOrientationPatient' not in dicom_data:\n",
        "            print(f\"Skipping file {dicom_filepath} - Missing ImageOrientationPatient metadata\")\n",
        "            continue\n",
        "\n",
        "        # Determine orientation\n",
        "        orientation = dicom_data.ImageOrientationPatient\n",
        "        is_axial = round(orientation[0], 0) == 1 and orientation[5] == 0\n",
        "\n",
        "        # Check WindowCenter and WindowWidth for contrast determination\n",
        "        window_center = int(dicom_data.WindowCenter)\n",
        "        window_width = int(dicom_data.WindowWidth)\n",
        "        is_contrast_slice = window_center >= 0 or window_width <= 800\n",
        "\n",
        "        # Check if it's a non-contrast axial slice\n",
        "        if not is_contrast_slice and is_axial:\n",
        "            # Identify the series\n",
        "            series_id = dicom_data.SeriesInstanceUID\n",
        "\n",
        "            # Count the number of slices in the series\n",
        "            if series_id not in series_slices_count:\n",
        "                series_slices_count[series_id] = 0\n",
        "            series_slices_count[series_id] += 1\n",
        "\n",
        "            # Create series folder if not exists\n",
        "            series_folder = os.path.join(output_folder, f'Series_{series_id}')\n",
        "            os.makedirs(series_folder, exist_ok=True)\n",
        "\n",
        "            # Rename the DICOM file and copy to the series folder\n",
        "            new_filename = f\"{series_id}_{dicom_file}\"\n",
        "            target_filepath = os.path.join(series_folder, new_filename)\n",
        "            shutil.copy(dicom_filepath, target_filepath)\n",
        "\n",
        "    # Check and remove series folders with less than 10 slices\n",
        "    for series_id, num_slices in series_slices_count.items():\n",
        "        if num_slices < 10:\n",
        "            series_folder = os.path.join(output_folder, f'Series_{series_id}')\n",
        "            shutil.rmtree(series_folder)\n",
        "\n",
        "if __name__ == \"__main__\":\n",
        "    dicom_path = '/content/gdrive/MyDrive/wanted_scans_2/8079712/w5177093'\n",
        "    output_folder = '/content/gdrive/MyDrive/only_axial/scan_8079712'\n",
        "    categorize_and_rename_dicom_axial_no(dicom_path, output_folder)\n"
      ],
      "metadata": {
        "colab": {
          "base_uri": "https://localhost:8080/"
        },
        "id": "p2ur45izk8bP",
        "outputId": "38ac3f62-c762-449d-cc67-22b266938d66"
      },
      "execution_count": null,
      "outputs": [
        {
          "output_type": "stream",
          "name": "stdout",
          "text": [
            "Skipping file /content/gdrive/MyDrive/wanted_scans_2/8079712/w5177093/view0130.dcm - Missing ImageOrientationPatient metadata\n"
          ]
        }
      ]
    }
  ],
  "metadata": {
    "colab": {
      "provenance": [],
      "mount_file_id": "1W-lmbpoiFABNz8KJ49SkkdxKd_2Q1XMp",
      "authorship_tag": "ABX9TyMvGK5y0RY1PviiGdFIRc8E",
      "include_colab_link": true
    },
    "kernelspec": {
      "display_name": "Python 3",
      "name": "python3"
    },
    "language_info": {
      "name": "python"
    }
  },
  "nbformat": 4,
  "nbformat_minor": 0
}